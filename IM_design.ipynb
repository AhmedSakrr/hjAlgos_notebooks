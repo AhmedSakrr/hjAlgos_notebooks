{
 "cells": [
  {
   "cell_type": "code",
   "execution_count": 2,
   "id": "bacterial-apartment",
   "metadata": {
    "ExecuteTime": {
     "end_time": "2021-03-26T18:25:36.206823Z",
     "start_time": "2021-03-26T18:25:36.203408Z"
    }
   },
   "outputs": [],
   "source": [
    "import numpy as np"
   ]
  },
  {
   "cell_type": "code",
   "execution_count": 7,
   "id": "crazy-breach",
   "metadata": {
    "ExecuteTime": {
     "end_time": "2021-03-26T19:01:17.521569Z",
     "start_time": "2021-03-26T19:01:17.516030Z"
    }
   },
   "outputs": [],
   "source": [
    "HP = 11          # Output Power\n",
    "n = 0.85         # Efficiancy\n",
    "cos_phi = 0.88   # Power Factor\n",
    "N = 25           # Sync Speed in RPS\n",
    "b_av = 0.45      # Wb/m**2 Specific Magnetic Loading\n",
    "a_c = 23000      # Specific Electrical Loading\n",
    "k_w = 0.955      # Winding Factor"
   ]
  },
  {
   "cell_type": "code",
   "execution_count": 8,
   "id": "verified-seventh",
   "metadata": {
    "ExecuteTime": {
     "end_time": "2021-03-26T19:01:23.106205Z",
     "start_time": "2021-03-26T19:01:23.101451Z"
    }
   },
   "outputs": [
    {
     "name": "stdout",
     "output_type": "stream",
     "text": [
      "Q = 14.71 KW\n"
     ]
    }
   ],
   "source": [
    "####### INDUCTION MOTOR OUTPUT POWER EQUATION #############\n",
    "\n",
    "# Q = (HP * 0.746) / (n * cos_phi) #  Q in HP\n",
    "Q = HP / (n * cos_phi)             #  Q in KW\n",
    "\n",
    "print('Q = '+str(round(Q,2))+' KW')"
   ]
  },
  {
   "cell_type": "code",
   "execution_count": 9,
   "id": "dutch-species",
   "metadata": {
    "ExecuteTime": {
     "end_time": "2021-03-26T19:01:26.383002Z",
     "start_time": "2021-03-26T19:01:26.377987Z"
    }
   },
   "outputs": [
    {
     "name": "stdout",
     "output_type": "stream",
     "text": [
      "c_zero : 108.72675\n"
     ]
    }
   ],
   "source": [
    "#########  OUTPUT COEFFICIANT EQUATION ############\n",
    "\n",
    "c_zero = 11 * b_av * a_c * k_w * 10**-3\n",
    "\n",
    "# b_av = Specific Magnetic Loading\n",
    "# a_c = Specific Electrical Loading\n",
    "# k_w = Winding Factor\n",
    "\n",
    "print('c_zero : '+str(c_zero))"
   ]
  },
  {
   "cell_type": "code",
   "execution_count": 10,
   "id": "moved-handling",
   "metadata": {
    "ExecuteTime": {
     "end_time": "2021-03-26T19:01:28.266013Z",
     "start_time": "2021-03-26T19:01:28.261291Z"
    }
   },
   "outputs": [
    {
     "name": "stdout",
     "output_type": "stream",
     "text": [
      "D_square_L : 0.005410216842843616\n"
     ]
    }
   ],
   "source": [
    "####### D_square_L from MOTOR O/P POWER EQUATION #############\n",
    "\n",
    "\n",
    "D_square_L = (Q)/(c_zero * N )\n",
    "\n",
    "# Q = c_zero * (D**2) * L * N\n",
    "# Q = Output Power\n",
    "# c_zero = Output Coefficiant\n",
    "# N = Sync Speed in RPS\n",
    "# D = Inner Diameter of Stator\n",
    "# L = Lenght of Stator Core\n",
    "\n",
    "print('D_square_L : '+str(D_square_L))"
   ]
  },
  {
   "cell_type": "code",
   "execution_count": 11,
   "id": "lovely-divide",
   "metadata": {
    "ExecuteTime": {
     "end_time": "2021-03-26T19:01:33.113667Z",
     "start_time": "2021-03-26T19:01:33.026428Z"
    }
   },
   "outputs": [
    {
     "ename": "NameError",
     "evalue": "name 'tau' is not defined",
     "output_type": "error",
     "traceback": [
      "\u001b[0;31m---------------------------------------------------------------------------\u001b[0m",
      "\u001b[0;31mNameError\u001b[0m                                 Traceback (most recent call last)",
      "\u001b[0;32m<ipython-input-11-70a4ad2651f2>\u001b[0m in \u001b[0;36m<module>\u001b[0;34m\u001b[0m\n\u001b[1;32m      1\u001b[0m \u001b[0;31m########### L/tau RATIO #################\u001b[0m\u001b[0;34m\u001b[0m\u001b[0;34m\u001b[0m\u001b[0;34m\u001b[0m\u001b[0m\n\u001b[1;32m      2\u001b[0m \u001b[0;34m\u001b[0m\u001b[0m\n\u001b[0;32m----> 3\u001b[0;31m \u001b[0mL\u001b[0m \u001b[0;34m=\u001b[0m \u001b[0mtau\u001b[0m \u001b[0;34m*\u001b[0m \u001b[0;36m1.5\u001b[0m\u001b[0;34m\u001b[0m\u001b[0;34m\u001b[0m\u001b[0m\n\u001b[0m\u001b[1;32m      4\u001b[0m \u001b[0;34m\u001b[0m\u001b[0m\n\u001b[1;32m      5\u001b[0m \u001b[0;31m# (L/tau) => 1.25  : Good Overall Design\u001b[0m\u001b[0;34m\u001b[0m\u001b[0;34m\u001b[0m\u001b[0;34m\u001b[0m\u001b[0m\n",
      "\u001b[0;31mNameError\u001b[0m: name 'tau' is not defined"
     ]
    }
   ],
   "source": [
    "########### L/tau RATIO #################\n",
    "\n",
    "L = tau * 1.5\n",
    "\n",
    "# (L/tau) => 1.25  : Good Overall Design\n",
    "# (L/tau) => 1.50  : Higher Efficiancy\n",
    "# (L/tau) => 1.5 to 2.0  : Overall Econimical Design\n",
    "\n",
    "D = np.sqrt(D_square_L/L)\n",
    "\n",
    "print('L : '+str(L))\n",
    "print('D : '+str(D))"
   ]
  },
  {
   "cell_type": "code",
   "execution_count": null,
   "id": "going-spokesman",
   "metadata": {},
   "outputs": [],
   "source": [
    "########### LENGHT OF AIRGAP ################\n",
    "\n",
    "dell = 0.2 + np.sqrt(D*L)\n",
    "\n",
    "# dell = Length of Airgap\n",
    "# dell : 2 to 3 mm for medium rating machines\n",
    "\n",
    "print('dell : '+str(dell))"
   ]
  },
  {
   "cell_type": "code",
   "execution_count": null,
   "id": "productive-bikini",
   "metadata": {},
   "outputs": [],
   "source": []
  }
 ],
 "metadata": {
  "hide_input": false,
  "kernelspec": {
   "display_name": "Python 3",
   "language": "python",
   "name": "python3"
  },
  "language_info": {
   "codemirror_mode": {
    "name": "ipython",
    "version": 3
   },
   "file_extension": ".py",
   "mimetype": "text/x-python",
   "name": "python",
   "nbconvert_exporter": "python",
   "pygments_lexer": "ipython3",
   "version": "3.9.2"
  },
  "varInspector": {
   "cols": {
    "lenName": 16,
    "lenType": 16,
    "lenVar": 40
   },
   "kernels_config": {
    "python": {
     "delete_cmd_postfix": "",
     "delete_cmd_prefix": "del ",
     "library": "var_list.py",
     "varRefreshCmd": "print(var_dic_list())"
    },
    "r": {
     "delete_cmd_postfix": ") ",
     "delete_cmd_prefix": "rm(",
     "library": "var_list.r",
     "varRefreshCmd": "cat(var_dic_list()) "
    }
   },
   "types_to_exclude": [
    "module",
    "function",
    "builtin_function_or_method",
    "instance",
    "_Feature"
   ],
   "window_display": false
  }
 },
 "nbformat": 4,
 "nbformat_minor": 5
}
